{
  "nbformat": 4,
  "nbformat_minor": 0,
  "metadata": {
    "colab": {
      "provenance": [],
      "authorship_tag": "ABX9TyPNTmESyG0lHC0QBgbWoI+6",
      "include_colab_link": true
    },
    "kernelspec": {
      "name": "python3",
      "display_name": "Python 3"
    },
    "language_info": {
      "name": "python"
    }
  },
  "cells": [
    {
      "cell_type": "markdown",
      "metadata": {
        "id": "view-in-github",
        "colab_type": "text"
      },
      "source": [
        "<a href=\"https://colab.research.google.com/github/HoloyAz/learn_python/blob/basic/basic.ipynb\" target=\"_parent\"><img src=\"https://colab.research.google.com/assets/colab-badge.svg\" alt=\"Open In Colab\"/></a>"
      ]
    },
    {
      "cell_type": "markdown",
      "source": [
        "## Variable, Input"
      ],
      "metadata": {
        "id": "BTRqXSsGEu_8"
      }
    },
    {
      "cell_type": "code",
      "execution_count": null,
      "metadata": {
        "id": "kO5IhUYI6LZR",
        "colab": {
          "base_uri": "https://localhost:8080/"
        },
        "outputId": "ae333db3-4246-4448-bd06-dda8e03e27d1"
      },
      "outputs": [
        {
          "output_type": "stream",
          "name": "stdout",
          "text": [
            "What is your name? nhat\n",
            "What is your favorite color green\n",
            "nhat likes green\n",
            "Birth year: 2002\n",
            "20\n",
            "p\n",
            "r\n",
            "ython for beginne\n"
          ]
        }
      ],
      "source": [
        "# variables\n",
        "name = input('What is your name? ')\n",
        "favorite_color = input('What is your favorite color ')\n",
        "print(name + ' likes ' + favorite_color)\n",
        "\n",
        "# input\n",
        "birth_year = input('Birth year: ')\n",
        "age = 2022-int(birth_year)\n",
        "print(age)\n",
        "\n",
        "\n",
        "# cheat sheet\n",
        "course = 'python for beginner'\n",
        "# in ra ký tự đầu tiên\n",
        "print(course[0])\n",
        "# in ra ký tự cuối cùng\n",
        "print(course[-1])\n",
        "# In ra một phần của chuỗi course, bắt đầu từ ký tự thứ hai (index 1) đến ký tự trước ký tự cuối cùng (không bao gồm ký tự cuối cùng). Kết quả sẽ là 'ython for beginne'.\n",
        "print(course[1:-1])"
      ]
    },
    {
      "cell_type": "markdown",
      "source": [
        "## String\n",
        "%s Định dạng cho dữ liệu kiểu chuỗi (str) <br>\n",
        "%d Định dạng cho dữ liệu kiểu số nguyên hoặc số thực bỏ phần thập phân <br>\n",
        "%[n]f Định dạng cho dữ liệu kiểu số thực với n là số chữ số phần thập <br>\n",
        "phân\n",
        "%r Định dạng cho dữ liệu chứa cả chuỗi các số"
      ],
      "metadata": {
        "id": "79zCAE4aJVzz"
      }
    },
    {
      "cell_type": "code",
      "source": [
        "s1 = \"Hello\"\n",
        "# Tạo ra chuỗi bằng cách lặp lại chuỗi s1 2 lần\n",
        "s = s1*2 # s = \" HelloHello\"\n",
        "print(\"s = \",s)\n",
        "s = \"Hello\"\n",
        "# Bất cứ chuỗi nào nhân với 0 (hoặc số âm) cũng đều có kết quả là một chuỗi rỗng\n",
        "s *= 0\n",
        "print(\"s = \",s)\n",
        "s = \"Hello\"\n",
        "s = s*(-2)\n",
        "print(\"s = \",s)\n",
        "\n",
        "first = 'John'\n",
        "last = 'Smith'\n",
        "message = first + ' [' + last + '] is a coder'\n",
        "msg = f'{first} [{last}] is a coder '\n",
        "print(message)\n",
        "print(msg)\n",
        "\n",
        "\"Tên tôi là: %s\" %(\"Python\")\n",
        "#Kết quả cho ta chuỗi: \"Tên tôi là: Python\"\n",
        "a = 5\n",
        "s = \"Giá trị a = %d\" %(a)#Kết quả cho ta chuỗi: \"Giá trị a = 5\"\n",
        "print(\"s = \",s)\n",
        "\n",
        "a = 1 # Gán giá trị số nguyên 1 cho biến a\n",
        "b = 2 # Gán giá trị số nguyên 2 cho biến b\n",
        "f = 3.5 # Gán giá trị số thực 3.5 cho biến f\n",
        "s = \"444\" # Gán giá trị chuỗi \"444\" cho biến s\n",
        "# Hiển thị dữ liệu ra màn hình\n",
        "print(\"a=%d \\nb = %d \\nf=%f \\ns = %s \\n\" % (a, b, f, s))\n",
        "\n",
        "#Đếm số dấu cách (ký tự trắng) trong trong chuỗi và gán vào biến n\n",
        "n=\"Lập trình Python không khó\".count(\" \")\n",
        "print(\"Số dấu cách n =\",n)\n",
        "\n",
        "s =\"Lập trình Python\"\n",
        "#Đếm số ký tự bằng 't' trong s từ ký tự thứ 2 đến hết 14\n",
        "n = s.count('t',1,15)\n",
        "print(\"Số ký tự 't' trong s=\",n)\n",
        "\n",
        "course = 'python for beginners'\n",
        "print(len(course))\n",
        "print(course.upper())\n",
        "print(course.find('beginners'))\n",
        "print(course.replace('beginner', 'junior'))\n",
        "print(course.replace('p', 'j'))\n",
        "print(course.title())\n",
        "print('python' in course)"
      ],
      "metadata": {
        "colab": {
          "base_uri": "https://localhost:8080/"
        },
        "id": "I5SsPna8JHQg",
        "outputId": "4800005e-61c3-454c-d139-916951e62761"
      },
      "execution_count": 16,
      "outputs": [
        {
          "output_type": "stream",
          "name": "stdout",
          "text": [
            "s =  HelloHello\n",
            "s =  \n",
            "s =  \n",
            "John [Smith] is a coder\n",
            "John [Smith] is a coder \n",
            "s =  Giá trị a = 5\n",
            "a=1 \n",
            "b = 2 \n",
            "f=3.500000 \n",
            "s = 444 \n",
            "\n",
            "Số dấu cách n = 4\n",
            "Số ký tự 't' trong s= 2\n",
            "20\n",
            "PYTHON FOR BEGINNERS\n",
            "11\n",
            "python for juniors\n",
            "jython for beginners\n",
            "Python For Beginners\n",
            "True\n"
          ]
        }
      ]
    },
    {
      "cell_type": "markdown",
      "source": [
        "## IF\n",
        "1.1.\n",
        "Viết chương trình cho người dùng nhập vào ba số a, b, c hãy tìm\n",
        "và hiển thị ra màn hình số lớn nhất trong ba số đó.\n",
        "\n",
        "1.2. Viết chương trình cho nhập vào ba số thực a, b,c, kiểm tra xem\n",
        "ba số thực đó có thỏa mãn là độ dài 3 cạnh của một tam giác hay không, nếu\n",
        "có hãy tính diện tích và chu vi tam giác đó."
      ],
      "metadata": {
        "id": "qMQXTz_8Cz-N"
      }
    },
    {
      "cell_type": "code",
      "source": [
        "x = int(input(\"Nhập số : \") )\n",
        "if (x > 0): # Kiểm tra nếu x lớn hơn số 0 thì...\n",
        " print(x,\": Là số dương\") # Hiển thị ra màn hình x là số dương\n",
        "else:\n",
        " if (x == 0): # Kiểm tra tiếp nếu x bằng 0 thì...\n",
        "  print(x,\": Là số không\") # Hiển thị ra màn hình x là số không\n",
        " else:\n",
        "  print(x,\": Là số âm\")# Hiển thị ra màn hình x là số âm\n",
        "\n",
        "# 1.1\n",
        "a = int(input(\"Nhập vào số a = \"))\n",
        "b = int(input(\"Nhập vào số b = \"))\n",
        "c = int(input(\"Nhập vào số c = \"))\n",
        "Max = a # Đầu tiên coi a là giá trị lớn nhất (Max)\n",
        "# sau đó mang Max đi so sánh lần lượt với b và c\n",
        "# Nếu giá trị của Max bé hơn b thì cập nhật lại Max=b\n",
        "\n",
        "if (Max < b): Max = b\n",
        "# Nếu giá trị của Max bé hơn c thì cập nhật lại Max=c\n",
        "if (Max < c): Max = c\n",
        "print(\"Số lớn nhất trong ba số: \", a, \", \", b, \", \", c, \" =\", Max)\n",
        "\n",
        "\n"
      ],
      "metadata": {
        "colab": {
          "base_uri": "https://localhost:8080/"
        },
        "id": "lddSAc3GCf5j",
        "outputId": "c238f46c-2a5d-498e-edcf-d24851c34047"
      },
      "execution_count": 8,
      "outputs": [
        {
          "output_type": "stream",
          "name": "stdout",
          "text": [
            "Nhập số : 8\n",
            "8 : Là số dương\n",
            "Nhập vào số a = 3\n",
            "Nhập vào số b = 5\n",
            "Nhập vào số c = 2\n",
            "Số lớn nhất trong ba số:  3 ,  5 ,  2  = 5\n"
          ]
        }
      ]
    },
    {
      "cell_type": "code",
      "source": [
        "# 1.2\n",
        "import math\n",
        "\n",
        "# Nhập từ bàn phím độ dài 3 cạnh của tam giác\n",
        "a = float(input(\"Xin moi nhap canh a=\"))\n",
        "b = float(input(\"Xin moi nhap canh b=\"))\n",
        "c = float(input(\"Xin moi nhap canh c=\"))\n",
        "#Kiểm tra ba số a, b, c có thoả mãn là 3 cạnh của 1 tam giác?\n",
        "if (a>0 and b>0 and c>0 and a+b>c and b+c>a and c+a>b):\n",
        " p = (a+b+c)/2 #Tính nửa chu vi\n",
        " cv = p*2 #Tính chu vi tam giác\n",
        " dt = math.sqrt(p*(p-a)*(p-b)*(p-c)) #Tính diện tích tam giác\n",
        " # Hiển thị chu vi, diện tích ra màn hình\n",
        " print(\"Dien tich tam giac dt=\",dt,\" chu vi=\",cv)\n",
        "else: #Ngược lại,ba số a, b,c không là 3 cạnh của tam giác\n",
        " print(\"Ba canh a=\",a,\"b=\",b,\"c=\",c,\"khong tao thanh tam giac.\")"
      ],
      "metadata": {
        "colab": {
          "base_uri": "https://localhost:8080/"
        },
        "id": "jKBX8toqEK5L",
        "outputId": "81874879-3159-4ab8-d278-e092a60db338"
      },
      "execution_count": 11,
      "outputs": [
        {
          "output_type": "stream",
          "name": "stdout",
          "text": [
            "Xin moi nhap canh a=12\n",
            "Xin moi nhap canh b=9\n",
            "Xin moi nhap canh c=15\n",
            "Dien tich tam giac dt= 54.0  chu vi= 36.0\n"
          ]
        }
      ]
    }
  ]
}