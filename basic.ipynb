{
  "nbformat": 4,
  "nbformat_minor": 0,
  "metadata": {
    "colab": {
      "provenance": [],
      "authorship_tag": "ABX9TyMU13N2Yck/Qjw8EVo/0Y67",
      "include_colab_link": true
    },
    "kernelspec": {
      "name": "python3",
      "display_name": "Python 3"
    },
    "language_info": {
      "name": "python"
    }
  },
  "cells": [
    {
      "cell_type": "markdown",
      "metadata": {
        "id": "view-in-github",
        "colab_type": "text"
      },
      "source": [
        "<a href=\"https://colab.research.google.com/github/HoloyAz/learn_python/blob/basic/basic.ipynb\" target=\"_parent\"><img src=\"https://colab.research.google.com/assets/colab-badge.svg\" alt=\"Open In Colab\"/></a>"
      ]
    },
    {
      "cell_type": "code",
      "execution_count": 1,
      "metadata": {
        "id": "kO5IhUYI6LZR",
        "colab": {
          "base_uri": "https://localhost:8080/"
        },
        "outputId": "ae333db3-4246-4448-bd06-dda8e03e27d1"
      },
      "outputs": [
        {
          "output_type": "stream",
          "name": "stdout",
          "text": [
            "What is your name? nhat\n",
            "What is your favorite color green\n",
            "nhat likes green\n",
            "Birth year: 2002\n",
            "20\n",
            "p\n",
            "r\n",
            "ython for beginne\n"
          ]
        }
      ],
      "source": [
        "# variables\n",
        "name = input('What is your name? ')\n",
        "favorite_color = input('What is your favorite color ')\n",
        "print(name + ' likes ' + favorite_color)\n",
        "\n",
        "# input\n",
        "birth_year = input('Birth year: ')\n",
        "age = 2022-int(birth_year)\n",
        "print(age)\n",
        "\n",
        "\n",
        "# cheat sheet\n",
        "course = 'python for beginner'\n",
        "# in ra ký tự đầu tiên\n",
        "print(course[0])\n",
        "# in ra ký tự cuối cùng\n",
        "print(course[-1])\n",
        "# In ra một phần của chuỗi course, bắt đầu từ ký tự thứ hai (index 1) đến ký tự trước ký tự cuối cùng (không bao gồm ký tự cuối cùng). Kết quả sẽ là 'ython for beginne'.\n",
        "print(course[1:-1])"
      ]
    },
    {
      "cell_type": "markdown",
      "source": [
        "## String"
      ],
      "metadata": {
        "id": "79zCAE4aJVzz"
      }
    },
    {
      "cell_type": "code",
      "source": [
        "first = 'John'\n",
        "last = 'Smith'\n",
        "message = first + ' [' + last + '] is a coder'\n",
        "msg = f'{first} [{last}] is a coder '\n",
        "print(message)\n",
        "print(msg)\n",
        "\n",
        "course = 'python for beginners'\n",
        "print(len(course))\n",
        "print(course.upper())\n",
        "print(course.find('beginners'))\n",
        "print(course.replace('beginner', 'junior'))\n",
        "print(course.replace('p', 'j'))\n",
        "print(course.title())\n",
        "print('python' in course)"
      ],
      "metadata": {
        "colab": {
          "base_uri": "https://localhost:8080/"
        },
        "id": "I5SsPna8JHQg",
        "outputId": "05e1a6ae-a753-42a7-d908-b50d6520a61f"
      },
      "execution_count": 2,
      "outputs": [
        {
          "output_type": "stream",
          "name": "stdout",
          "text": [
            "John [Smith] is a coder\n",
            "John [Smith] is a coder \n",
            "20\n",
            "PYTHON FOR BEGINNERS\n",
            "11\n",
            "python for juniors\n",
            "jython for beginners\n",
            "Python For Beginners\n",
            "True\n"
          ]
        }
      ]
    }
  ]
}